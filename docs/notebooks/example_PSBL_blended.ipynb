{
 "cells": [
  {
   "cell_type": "markdown",
   "source": [
    "# PSBL with Blended Astrometry\n",
    "\n",
    "This examples shows how the PSBL model astrometry is affected by blending from lens light. In this example, we use two different sets of parameters, one with luminous lenses and one with dark lenses. We assume no neighbors for simplicity.\n",
    "\n",
    "The event parameters are:\n",
    " "
   ],
   "metadata": {
    "collapsed": false
   },
   "id": "fc4936f34430edc8"
  },
  {
   "cell_type": "markdown",
   "source": [
    "   \n",
    "| Param        | Blended Value | Unblended Value | units                             |\n",
    "|--------------|---------------|-----------------|-----------------------------------|\n",
    "| Lens R.A.    | 259.5         | 259.5           | deg                               |\n",
    "| Lens Dec.    | -29.0         | -29.0           | deg                               |\n",
    "| $t_0$        | 57000         | 57000           | days                              |\n",
    "| $u_0$        | 0.3           | 0.3             |                                   |\n",
    "| $t_E$        | 200.0         | 200.0           | days                              |               \n",
    "| $\\pi_{E,E}$  | 0.01          | 0.01            |                                   |             \n",
    "| $\\pi_{E,N}$  | -0.01         | -0.01           |                                   |           \n",
    "| $b_{sff}$    | [0.5]         | [1.0]           | $f_S$ / ($f_S + f_{L1} + f_{L2}$) |  \n",
    "| $mag_{src}$  | [18]          | [18]            |                                   |\n",
    "| $\\theta_E$   | 3.0           | 3.0             | mas                               |\n",
    "| $x_{S0,E}$   | 0.0           | 0.0             | arcsec                            |          \n",
    "| $x_{S0,N}$   | 0.01          | 0.01            | arcsec                            |\n",
    "| $\\mu_{S,E}$  | 3.0           | 3.0             | mas/yr                            |                       \n",
    "| $\\mu_{S,N}$  | 0.0           | 0.0             | mas/yr                            |                     \n",
    "| $\\pi_S$      | (1 / 8 kpc)   | (1 / 8 kpc)     | mas                               |\n",
    "| $q$          | 0.8           | 0.8             | $M_1$ / $M_2$                     |              \n",
    "| $sep$        | 3.0           | 3.0             | mas                               |               \n",
    "| $\\alpha$     | 135.0         | 135.0           | deg                               |\n",
    "| $dm_{L1,L2}$ | [-0.5]        | [0.0]           | -2.5 * log10($f_{L1} / f_{L2}$)   |\n"
   ],
   "metadata": {
    "collapsed": false
   },
   "id": "ec63b0d99385e4ff"
  },
  {
   "cell_type": "code",
   "execution_count": 30,
   "outputs": [
    {
     "name": "stdout",
     "output_type": "stream",
     "text": [
      "The autoreload extension is already loaded. To reload it, use:\n",
      "  %reload_ext autoreload\n"
     ]
    }
   ],
   "source": [
    "%load_ext autoreload\n",
    "%autoreload 2\n",
    "from bagle import model\n",
    "import numpy as np\n",
    "import pylab as plt"
   ],
   "metadata": {
    "collapsed": false,
    "ExecuteTime": {
     "end_time": "2024-11-03T20:57:48.735745Z",
     "start_time": "2024-11-03T20:57:48.690355Z"
    }
   },
   "id": "a6b76cc90f496d0d"
  },
  {
   "cell_type": "markdown",
   "source": [
    "Define parameters"
   ],
   "metadata": {
    "collapsed": false
   },
   "id": "a68ee1096e1066fb"
  },
  {
   "cell_type": "code",
   "execution_count": 83,
   "outputs": [],
   "source": [
    "raL = 259.5\n",
    "decL = -29.0\n",
    "t0 = 57000\n",
    "u0 = 0.3  # in units of Einstein radii\n",
    "tE = 200.0\n",
    "piE_E = 0.01\n",
    "piE_N = -0.01\n",
    "mag_src = np.array([18])\n",
    "thetaE = 3.0  # in mas\n",
    "xS0_E = 0.0\n",
    "xS0_N = 0.01\n",
    "muS_E = 3.0\n",
    "muS_N = 0.0\n",
    "piS = (1.0 / 8000.0) * 1e3  # mas\n",
    "q = 0.8  # M2 / M1\n",
    "sep = 3.0  # mas\n",
    "alpha = 135.0\n",
    "\n",
    "# Blended\n",
    "b_sff_1 = np.array([0.7])\n",
    "dm_L1_L2_1 = np.array([-0.1])\n",
    "\n",
    "# Unblended\n",
    "b_sff_2 = np.array([1.0])\n",
    "dm_L1_L2_2 = np.array([0.0])"
   ],
   "metadata": {
    "collapsed": false,
    "ExecuteTime": {
     "end_time": "2024-11-03T21:28:55.233314Z",
     "start_time": "2024-11-03T21:28:49.139773Z"
    }
   },
   "id": "583ae59637adcb1e"
  },
  {
   "cell_type": "markdown",
   "source": [
    "Make two BAGLE models. "
   ],
   "metadata": {
    "collapsed": false
   },
   "id": "d8c13fcdfae1bd60"
  },
  {
   "cell_type": "code",
   "execution_count": 84,
   "outputs": [],
   "source": [
    "\n",
    "psbl1 = model.PSBL_PhotAstrom_noPar_Param2(t0, u0, tE,\n",
    "                                           thetaE, piS,\n",
    "                                           piE_E, piE_N,\n",
    "                                           xS0_E, xS0_N,\n",
    "                                           muS_E, muS_N,\n",
    "                                           q, sep, alpha,\n",
    "                                           b_sff_1, mag_src,\n",
    "                                           dm_L1_L2_1, \n",
    "                                           root_tol=1e-4)\n",
    "\n",
    "psbl2 = model.PSBL_PhotAstrom_noPar_Param2(t0, u0, tE,\n",
    "                                           thetaE, piS,\n",
    "                                           piE_E, piE_N,\n",
    "                                           xS0_E, xS0_N,\n",
    "                                           muS_E, muS_N,\n",
    "                                           q, sep, alpha,\n",
    "                                           b_sff_2, mag_src,\n",
    "                                           dm_L1_L2_2,\n",
    "                                           root_tol=1e-4)\n"
   ],
   "metadata": {
    "collapsed": false,
    "ExecuteTime": {
     "end_time": "2024-11-03T21:28:55.245305Z",
     "start_time": "2024-11-03T21:28:55.234063Z"
    }
   },
   "id": "e364815b574ba26"
  },
  {
   "cell_type": "markdown",
   "source": [],
   "metadata": {
    "collapsed": false
   },
   "id": "a5232bb97f3a7317"
  },
  {
   "cell_type": "code",
   "execution_count": 87,
   "outputs": [
    {
     "name": "stdout",
     "output_type": "stream",
     "text": [
      "Blended   magL1 = 19.62, magL2 = 19.72\n",
      "Unblended magL1 = inf, magL2 = inf\n"
     ]
    }
   ],
   "source": [
    "# Get the astrometry of the two over some time array.\n",
    "t_mod = np.arange(t0 - 5*tE, t0 + 5*tE, 1)\n",
    "\n",
    "magL1_1, magL2_1 = psbl1.get_resolved_lens_photometry()\n",
    "magL1_2, magL2_2 = psbl2.get_resolved_lens_photometry()\n",
    "print(f'Blended   magL1 = {magL1_1:.2f}, magL2 = {magL2_1:.2f}')\n",
    "print(f'Unblended magL1 = {magL1_2:.2f}, magL2 = {magL2_2:.2f}')\n",
    "\n",
    "# Lens and source positions (with no lensing)\n",
    "xL1, xL2 = psbl1.get_resolved_lens_astrometry(t_mod)\n",
    "xS = psbl1.get_astrometry_unlensed(t_mod)\n",
    "\n",
    "# Centroid positions\n",
    "ast1 = psbl1.get_astrometry(t_mod)\n",
    "ast2 = psbl2.get_astrometry(t_mod)"
   ],
   "metadata": {
    "collapsed": false,
    "ExecuteTime": {
     "end_time": "2024-11-03T21:33:08.741823Z",
     "start_time": "2024-11-03T21:33:08.599162Z"
    }
   },
   "id": "fd18a0a38f83dbd5"
  },
  {
   "cell_type": "markdown",
   "source": [
    "Make plots. Notice how the unblended curve asymptotes to the source trajectory. The blended curve asymptotes to something in between the lens and source trajectory. "
   ],
   "metadata": {
    "collapsed": false
   },
   "id": "9ff74aa859489a24"
  },
  {
   "cell_type": "code",
   "execution_count": 89,
   "outputs": [
    {
     "data": {
      "text/plain": "<matplotlib.legend.Legend at 0x11da277d0>"
     },
     "execution_count": 89,
     "metadata": {},
     "output_type": "execute_result"
    },
    {
     "data": {
      "text/plain": "<Figure size 600x600 with 1 Axes>",
      "image/png": "[encoded data removed]"
     },
     "metadata": {},
     "output_type": "display_data"
    }
   ],
   "source": [
    "plt.figure()\n",
    "plt.plot(ast1[:, 0], ast1[:, 1], color='red', label='blended')\n",
    "plt.plot(ast2[:, 0], ast2[:, 1], color='blue', label='unblended')\n",
    "plt.plot(xL1[:, 0], xL1[:, 1], color='green', ls='--', label='L1')\n",
    "plt.plot(xL2[:, 0], xL2[:, 1], color='darkgreen', ls='--', label='L2')\n",
    "plt.plot(xS[:, 0],  xS[:, 1], color='lightgreen', ls='--', label='S unlensed')\n",
    "plt.axis('equal')\n",
    "plt.legend()"
   ],
   "metadata": {
    "collapsed": false,
    "ExecuteTime": {
     "end_time": "2024-11-03T21:33:51.986317Z",
     "start_time": "2024-11-03T21:33:51.880661Z"
    }
   },
   "id": "74c212562308abf5"
  }
 ],
 "metadata": {
  "kernelspec": {
   "display_name": "Python 3",
   "language": "python",
   "name": "python3"
  },
  "language_info": {
   "codemirror_mode": {
    "name": "ipython",
    "version": 2
   },
   "file_extension": ".py",
   "mimetype": "text/x-python",
   "name": "python",
   "nbconvert_exporter": "python",
   "pygments_lexer": "ipython2",
   "version": "2.7.6"
  }
 },
 "nbformat": 4,
 "nbformat_minor": 5
}
